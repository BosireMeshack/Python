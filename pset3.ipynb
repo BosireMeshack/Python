{
  "cells": [
    {
      "cell_type": "markdown",
      "metadata": {
        "id": "mXekubLrjxSk"
      },
      "source": [
        "# Pset 3: Knights and Knaves\n",
        "\n",
        "The objective in this pset is to write a program to solve logic puzzles using concepts of **Knowledge and Reasoining.**\n",
        "\n",
        "NB: be sure to run all the code cells as you work your way through the notebook.\n"
      ]
    },
    {
      "cell_type": "code",
      "execution_count": 25,
      "metadata": {
        "deletable": false,
        "editable": false,
        "id": "Wt60HUeQZPJC",
        "nbgrader": {
          "cell_type": "code",
          "checksum": "da3ead76d7fc04e95a5ce426c5ce977d",
          "grade": false,
          "grade_id": "cell-e4e4aae005622949",
          "locked": true,
          "schema_version": 3,
          "solution": false,
          "task": false
        },
        "outputId": "46b5b9d9-cdc0-46da-fb6e-96259d3b38c5",
        "colab": {
          "base_uri": "https://localhost:8080/"
        }
      },
      "outputs": [
        {
          "output_type": "stream",
          "name": "stdout",
          "text": [
            "Looking in indexes: https://test.pypi.org/simple/, https://us-python.pkg.dev/colab-wheels/public/simple/\n",
            "Requirement already satisfied: fee232==0.1.5 in /usr/local/lib/python3.9/dist-packages (0.1.5)\n"
          ]
        }
      ],
      "source": [
        "# Install and import testing funtionality\n",
        "!pip install -i https://test.pypi.org/simple/ fee232==0.1.5\n",
        "from knowledge.knowledge import *"
      ]
    },
    {
      "cell_type": "markdown",
      "metadata": {
        "id": "bWK1rhF1kEM3"
      },
      "source": [
        "# Background\n",
        "In 1978, logician Raymond Smullyan published “What is the name of this book?”, a book of logical puzzles. Among the puzzles in the book were a class of puzzles that Smullyan called “Knights and Knaves” puzzles.\n",
        "\n",
        "In a Knights and Knaves puzzle, the following information is given: \n",
        "- Each character is either a knight or a knave. \n",
        "- A knight will always tell the truth: if a knight states a sentence, then that sentence is true. \n",
        "- Conversely, a knave will always lie: if a knave states a sentence, then that sentence is false.\n",
        "\n",
        "The objective of the puzzle is, given a set of sentences spoken by each of the characters, determine, for each character, whether that character is a knight or a knave.\n",
        "\n",
        "For example, consider a simple puzzle with just a single character named A. A says “I am both a knight and a knave.”\n",
        "\n",
        "Logically, we might reason that if A were a knight, then that sentence would have to be true. But we know that the sentence cannot possibly be true, because A cannot be both a knight and a knave – we know that each character is either a knight or a knave, but not both. So, we could conclude, A must be a knave.\n",
        "\n",
        "That puzzle was on the simpler side. With more characters and more sentences, the puzzles can get trickier! Your task in this problem is to determine how to represent these puzzles using propositional logic, such that an AI running a model-checking algorithm could solve these puzzles for us.\n"
      ]
    },
    {
      "cell_type": "markdown",
      "metadata": {
        "id": "_1XPov6gm8SA"
      },
      "source": [
        "# Understanding\n",
        "\n",
        "Take a look at the code cell below (_Logic_). _No need to understand everything in it_, but notice that the code cell defines several classes for different types of logical connectives. These classes can be composed within each other, so an expression like `And(Not(A)`, `Or(B, C))` represents the logical sentence stating that symbol A is not true, and that symbol B or symbol C is true (where “or” here refers to inclusive, not exclusive, or).\n",
        "\n",
        "The code cell below also contains a function `model_check`. `model_check` takes a `knowledge base` and a `query`. The `knowledge base` is a single logical sentence: if multiple logical sentences are known, they can be joined together in an `And` expression. `model_check` recursively considers all possible models, and returns `True` if the `knowledge base` entails the `query`, and returns `False` otherwise.\n"
      ]
    },
    {
      "cell_type": "markdown",
      "metadata": {
        "id": "NvBrd2Z2FDtG"
      },
      "source": [
        "## Logic"
      ]
    },
    {
      "cell_type": "code",
      "execution_count": 26,
      "metadata": {
        "deletable": false,
        "editable": false,
        "id": "v4ZgcmxjFPNe",
        "nbgrader": {
          "cell_type": "code",
          "checksum": "d51a7f76ed6fbdd68f283be1ea5a1ad9",
          "grade": false,
          "grade_id": "cell-dc55aa8930018eca",
          "locked": true,
          "schema_version": 3,
          "solution": false,
          "task": false
        }
      },
      "outputs": [],
      "source": [
        "# DO NOT MODIFY THE CODE IN THIS CELL\n",
        "\n",
        "# -*- coding: utf-8 -*-\n",
        "import itertools\n",
        "\n",
        "\n",
        "class Sentence():\n",
        "\n",
        "    def evaluate(self, model):\n",
        "        \"\"\"Evaluates the logical sentence.\"\"\"\n",
        "        raise Exception(\"nothing to evaluate\")\n",
        "\n",
        "    def formula(self):\n",
        "        \"\"\"Returns string formula representing logical sentence.\"\"\"\n",
        "        return \"\"\n",
        "\n",
        "    def symbols(self):\n",
        "        \"\"\"Returns a set of all symbols in the logical sentence.\"\"\"\n",
        "        return set()\n",
        "\n",
        "    @classmethod\n",
        "    def validate(cls, sentence):\n",
        "        if not isinstance(sentence, Sentence):\n",
        "            raise TypeError(\"must be a logical sentence\")\n",
        "\n",
        "    @classmethod\n",
        "    def parenthesize(cls, s):\n",
        "        \"\"\"Parenthesizes an expression if not already parenthesized.\"\"\"\n",
        "        def balanced(s):\n",
        "            \"\"\"Checks if a string has balanced parentheses.\"\"\"\n",
        "            count = 0\n",
        "            for c in s:\n",
        "                if c == \"(\":\n",
        "                    count += 1\n",
        "                elif c == \")\":\n",
        "                    if count <= 0:\n",
        "                        return False\n",
        "                    count -= 1\n",
        "            return count == 0\n",
        "        if not len(s) or s.isalpha() or (\n",
        "            s[0] == \"(\" and s[-1] == \")\" and balanced(s[1:-1])\n",
        "        ):\n",
        "            return s\n",
        "        else:\n",
        "            # return f\"({s})\"\n",
        "            return \"({})\".format(s)\n",
        "\n",
        "\n",
        "class Symbol(Sentence):\n",
        "\n",
        "    def __init__(self, name):\n",
        "        self.name = name\n",
        "\n",
        "    def __eq__(self, other):\n",
        "        return isinstance(other, Symbol) and self.name == other.name\n",
        "\n",
        "    def __hash__(self):\n",
        "        return hash((\"symbol\", self.name))\n",
        "\n",
        "    def __repr__(self):\n",
        "        return self.name\n",
        "\n",
        "    def evaluate(self, model):\n",
        "        try:\n",
        "            return bool(model[self.name])\n",
        "        except KeyError:\n",
        "            raise Exception(\"variable {} not in model\".format(self.name))\n",
        "\n",
        "    def formula(self):\n",
        "        return self.name\n",
        "\n",
        "    def symbols(self):\n",
        "        return {self.name}\n",
        "\n",
        "\n",
        "class Not(Sentence):\n",
        "    def __init__(self, operand):\n",
        "        Sentence.validate(operand)\n",
        "        self.operand = operand\n",
        "\n",
        "    def __eq__(self, other):\n",
        "        return isinstance(other, Not) and self.operand == other.operand\n",
        "\n",
        "    def __hash__(self):\n",
        "        return hash((\"not\", hash(self.operand)))\n",
        "\n",
        "    def __repr__(self):\n",
        "        return \"Not({})\".format(self.operand)\n",
        "\n",
        "    def evaluate(self, model):\n",
        "        return not self.operand.evaluate(model)\n",
        "\n",
        "    def formula(self):\n",
        "        return \"¬\" + Sentence.parenthesize(self.operand.formula())\n",
        "\n",
        "    def symbols(self):\n",
        "        return self.operand.symbols()\n",
        "\n",
        "\n",
        "class And(Sentence):\n",
        "    def __init__(self, *conjuncts):\n",
        "        for conjunct in conjuncts:\n",
        "            Sentence.validate(conjunct)\n",
        "        self.conjuncts = list(conjuncts)\n",
        "\n",
        "    def __eq__(self, other):\n",
        "        return isinstance(other, And) and self.conjuncts == other.conjuncts\n",
        "\n",
        "    def __hash__(self):\n",
        "        return hash(\n",
        "            (\"and\", tuple(hash(conjunct) for conjunct in self.conjuncts))\n",
        "        )\n",
        "\n",
        "    def __repr__(self):\n",
        "        conjunctions = \", \".join(\n",
        "            [str(conjunct) for conjunct in self.conjuncts]\n",
        "        )\n",
        "        return \"And({})\".format(conjunctions)\n",
        "\n",
        "    def add(self, conjunct):\n",
        "        Sentence.validate(conjunct)\n",
        "        self.conjuncts.append(conjunct)\n",
        "\n",
        "    def evaluate(self, model):\n",
        "        return all(conjunct.evaluate(model) for conjunct in self.conjuncts)\n",
        "\n",
        "    def formula(self):\n",
        "        if len(self.conjuncts) == 1:\n",
        "            return self.conjuncts[0].formula()\n",
        "        return \" ∧ \".join([Sentence.parenthesize(conjunct.formula())\n",
        "                           for conjunct in self.conjuncts])\n",
        "\n",
        "    def symbols(self):\n",
        "        return set.union(*[conjunct.symbols() for conjunct in self.conjuncts])\n",
        "\n",
        "\n",
        "class Or(Sentence):\n",
        "    def __init__(self, *disjuncts):\n",
        "        for disjunct in disjuncts:\n",
        "            Sentence.validate(disjunct)\n",
        "        self.disjuncts = list(disjuncts)\n",
        "\n",
        "    def __eq__(self, other):\n",
        "        return isinstance(other, Or) and self.disjuncts == other.disjuncts\n",
        "\n",
        "    def __hash__(self):\n",
        "        return hash(\n",
        "            (\"or\", tuple(hash(disjunct) for disjunct in self.disjuncts))\n",
        "        )\n",
        "\n",
        "    def __repr__(self):\n",
        "        disjuncts = \", \".join([str(disjunct) for disjunct in self.disjuncts])\n",
        "        return \"Or({})\".format(disjuncts)\n",
        "\n",
        "    def evaluate(self, model):\n",
        "        return any(disjunct.evaluate(model) for disjunct in self.disjuncts)\n",
        "\n",
        "    def formula(self):\n",
        "        if len(self.disjuncts) == 1:\n",
        "            return self.disjuncts[0].formula()\n",
        "        return \" ∨  \".join([Sentence.parenthesize(disjunct.formula())\n",
        "                            for disjunct in self.disjuncts])\n",
        "\n",
        "    def symbols(self):\n",
        "        return set.union(*[disjunct.symbols() for disjunct in self.disjuncts])\n",
        "\n",
        "\n",
        "class Implication(Sentence):\n",
        "    def __init__(self, antecedent, consequent):\n",
        "        Sentence.validate(antecedent)\n",
        "        Sentence.validate(consequent)\n",
        "        self.antecedent = antecedent\n",
        "        self.consequent = consequent\n",
        "\n",
        "    def __eq__(self, other):\n",
        "        return (isinstance(other, Implication)\n",
        "                and self.antecedent == other.antecedent\n",
        "                and self.consequent == other.consequent)\n",
        "\n",
        "    def __hash__(self):\n",
        "        return hash((\"implies\", hash(self.antecedent), hash(self.consequent)))\n",
        "\n",
        "    def __repr__(self):\n",
        "        return \"Implication({}, {})\".format(self.antecedent, self.consequent)\n",
        "\n",
        "    def evaluate(self, model):\n",
        "        return ((not self.antecedent.evaluate(model))\n",
        "                or self.consequent.evaluate(model))\n",
        "\n",
        "    def formula(self):\n",
        "        antecedent = Sentence.parenthesize(self.antecedent.formula())\n",
        "        consequent = Sentence.parenthesize(self.consequent.formula())\n",
        "        return \"{} => {}\".format(antecedent, consequent)\n",
        "\n",
        "    def symbols(self):\n",
        "        return set.union(self.antecedent.symbols(), self.consequent.symbols())\n",
        "\n",
        "\n",
        "class Biconditional(Sentence):\n",
        "    def __init__(self, left, right):\n",
        "        Sentence.validate(left)\n",
        "        Sentence.validate(right)\n",
        "        self.left = left\n",
        "        self.right = right\n",
        "\n",
        "    def __eq__(self, other):\n",
        "        return (isinstance(other, Biconditional)\n",
        "                and self.left == other.left\n",
        "                and self.right == other.right)\n",
        "\n",
        "    def __hash__(self):\n",
        "        return hash((\"biconditional\", hash(self.left), hash(self.right)))\n",
        "\n",
        "    def __repr__(self):\n",
        "        return \"Biconditional({}, {})\".format(self.left, self.right)\n",
        "\n",
        "    def evaluate(self, model):\n",
        "        return ((self.left.evaluate(model)\n",
        "                 and self.right.evaluate(model))\n",
        "                or (not self.left.evaluate(model)\n",
        "                    and not self.right.evaluate(model)))\n",
        "\n",
        "    def formula(self):\n",
        "        left = Sentence.parenthesize(str(self.left))\n",
        "        right = Sentence.parenthesize(str(self.right))\n",
        "        return \"{} <=> {}\".format(left, right)\n",
        "\n",
        "    def symbols(self):\n",
        "        return set.union(self.left.symbols(), self.right.symbols())\n",
        "\n",
        "\n",
        "def model_check(knowledge, query):\n",
        "    \"\"\"Checks if knowledge base entails query.\"\"\"\n",
        "\n",
        "    def check_all(knowledge, query, symbols, model):\n",
        "        \"\"\"Checks if knowledge base entails query, given a particular model.\"\"\"\n",
        "\n",
        "        # If model has an assignment for each symbol\n",
        "        if not symbols:\n",
        "\n",
        "            # If knowledge base is true in model, then query must also be true\n",
        "            if knowledge.evaluate(model):\n",
        "                return query.evaluate(model)\n",
        "            return True\n",
        "        else:\n",
        "\n",
        "            # Choose one of the remaining unused symbols\n",
        "            remaining = symbols.copy()\n",
        "            p = remaining.pop()\n",
        "\n",
        "            # Create a model where the symbol is true\n",
        "            model_true = model.copy()\n",
        "            model_true[p] = True\n",
        "\n",
        "            # Create a model where the symbol is false\n",
        "            model_false = model.copy()\n",
        "            model_false[p] = False\n",
        "\n",
        "            # Ensure entailment holds in both models\n",
        "            return (check_all(knowledge, query, remaining, model_true) and\n",
        "                    check_all(knowledge, query, remaining, model_false))\n",
        "\n",
        "    # Get all symbols in both knowledge and query\n",
        "    symbols = set.union(knowledge.symbols(), query.symbols())\n",
        "\n",
        "    # Check that knowledge entails query\n",
        "    return check_all(knowledge, query, symbols, dict())"
      ]
    },
    {
      "cell_type": "markdown",
      "metadata": {
        "id": "KWLxbGanPsqz"
      },
      "source": [
        "Ensure you have run the code cell above."
      ]
    },
    {
      "cell_type": "markdown",
      "metadata": {
        "id": "AVa8UfP7EZUy"
      },
      "source": [
        "# Symbols\n"
      ]
    },
    {
      "cell_type": "markdown",
      "metadata": {
        "id": "InRiFihKEv3O"
      },
      "source": [
        "In the code cell below, six propositional symbols are defined. `AKnight`, for example, represents the sentence that “A is a knight,” while `AKnave` represents the sentence that “A is a knave.” Propositional symbols for characters B and C have also been defined.\n",
        "\n"
      ]
    },
    {
      "cell_type": "code",
      "execution_count": 27,
      "metadata": {
        "deletable": false,
        "editable": false,
        "id": "3MnOagGTVhbA",
        "nbgrader": {
          "cell_type": "code",
          "checksum": "917a378fc2cf4b85338963517d0170b3",
          "grade": true,
          "grade_id": "cell-689b3a46d32794ed",
          "locked": true,
          "points": 0,
          "schema_version": 3,
          "solution": false,
          "task": false
        }
      },
      "outputs": [],
      "source": [
        "################## Symbols #########################\n",
        "AKnight = Symbol(\"A is a Knight\")\n",
        "AKnave = Symbol(\"A is a Knave\")\n",
        "\n",
        "BKnight = Symbol(\"B is a Knight\")\n",
        "BKnave = Symbol(\"B is a Knave\")\n",
        "\n",
        "CKnight = Symbol(\"C is a Knight\")\n",
        "CKnave = Symbol(\"C is a Knave\")\n"
      ]
    },
    {
      "cell_type": "markdown",
      "metadata": {
        "id": "TZVFqwUK-FAW"
      },
      "source": [
        "# Puzzle solver\n",
        "In the `puzzle_solver()` function below, the symbols are specified in a list. The model checking function is then used to compute, given the knowledge for that puzzle, whether each character is a knight or a knave, printing out any conclusions that the model checking algorithm is able to make.\n",
        "**You do not need to modfiy this function.**"
      ]
    },
    {
      "cell_type": "code",
      "execution_count": 28,
      "metadata": {
        "deletable": false,
        "editable": false,
        "id": "5aRc38Lb-hLj",
        "nbgrader": {
          "cell_type": "code",
          "checksum": "8916cc1a2638d30ba3b5fd43551ea4ff",
          "grade": false,
          "grade_id": "cell-564fc315cce005fd",
          "locked": true,
          "schema_version": 3,
          "solution": false,
          "task": false
        }
      },
      "outputs": [],
      "source": [
        "# You do not need to modify this code cell!\n",
        "\n",
        "def puzzle_solver(puzzle_name, knowledge):\n",
        "    symbols = [AKnight, AKnave, BKnight, BKnave, CKnight, CKnave]\n",
        "    print(puzzle_name)\n",
        "\n",
        "    if len(knowledge.conjuncts) == 0:\n",
        "        print(\"    Not yet implemented.\")\n",
        "    else:\n",
        "        for symbol in symbols:\n",
        "            if model_check(knowledge, symbol):\n",
        "                print(f\"    {symbol}\")"
      ]
    },
    {
      "cell_type": "markdown",
      "metadata": {
        "id": "Cali0vnK_fgV"
      },
      "source": [
        "# Puzzles and Knowledge bases\n",
        "In the cells below, there are six different knowledge bases, `knowledge0`, `knowledge1`, `knowledge2`, `knowledge3`, `knowledge4`,and `knowledge5`, which will contain the knowledge needed to deduce the solutions to the Puzzles 0, 1, 2, 3, 4 and 5, respectively. Notice that, for now, each of these knowledge bases is empty. That’s where you come in!\n",
        "\n",
        "\n",
        "Add knowledge to knowledge bases `knowledge0`, `knowledge1`, `knowledge2`, `knowledge3`, `knowledge4`,and `knowledge5` to solve the respective puzzles.\n"
      ]
    },
    {
      "cell_type": "markdown",
      "metadata": {
        "id": "Wi-qPuE4CtUq"
      },
      "source": [
        "In each of the puzzles, each character is either a knight or a knave. Every sentence spoken by a knight is true, and every sentence spoken by a knave is false.\n",
        "\n",
        "Once you’ve completed the knowledge base for a problem, the `puzzle_sovler()` function is invoked to see the solution to the puzzle.\n",
        "\n",
        "For each knowledge base, you’ll likely want to encode two different types of information:\n",
        "1. Information about the structure of the problem itself (i.e., information given in the definition of a Knight and Knave puzzle), and \n",
        "2. Information about what the characters actually said. \n",
        "\n",
        "\n",
        "For the information of type (1):\n",
        "- Think: how would you represent, using logical connectives, the fact that a character is **either** a knight or a knave?\n",
        "- This  type of information will be present in all the knowledge bases.\n",
        "\n",
        "\n",
        "For the information of type (2):\n",
        "- Think: how would you represent, using logical connectives, the fact that a character **said** something?\n",
        "- Consider what it means if a sentence is spoken by a character. Under what conditions is that sentence true? Under what conditions is that sentence false? How can you express that as a logical sentence?\n",
        "\n",
        "\n",
        "There are multiple possible knowledge bases for each puzzle that will compute the correct result. You should attempt to choose a knowledge base that offers the most direct translation of the information in the puzzle, rather than performing logical reasoning on your own. You should also consider what the most concise representation of the information in the puzzle would be.\n",
        "\n",
        "For instance, for Puzzle 0, setting `knowledge0 = AKnave` would result in correct output, since through our own reasoning we know A must be a knave. But doing so would **be against the spirit of this problem**: the goal is to have your AI do the reasoning for you."
      ]
    },
    {
      "cell_type": "markdown",
      "metadata": {
        "id": "TFm5U9oTAgg6"
      },
      "source": [
        "## Puzzle 0\n",
        "**Puzzle 0** is the puzzle from the Background. It contains a single character, A.\n",
        "- A says “I am both a knight and a knave.”\n",
        "\n",
        "Complete the code for the knowledge base and then run the cell to solve the puzzle."
      ]
    },
    {
      "cell_type": "code",
      "execution_count": 29,
      "metadata": {
        "deletable": false,
        "id": "-t8AmG_iApSz",
        "nbgrader": {
          "cell_type": "code",
          "checksum": "0a2e3da8f3df4668b6dbebf11edb7d16",
          "grade": false,
          "grade_id": "cell-321d9613bd9831f8",
          "locked": false,
          "schema_version": 3,
          "solution": true,
          "task": false
        },
        "colab": {
          "base_uri": "https://localhost:8080/"
        },
        "outputId": "33240fbd-e45b-4f35-d4e5-f99c81d776f2"
      },
      "outputs": [
        {
          "output_type": "stream",
          "name": "stdout",
          "text": [
            "Puzzle 0\n",
            "    A is a Knave\n"
          ]
        }
      ],
      "source": [
        "# Puzzle 0\n",
        "# A says \"I am both a knight and a knave.\"\n",
        "\n",
        "# Encode the knowledge in the knowledge base\n",
        "\n",
        "knowledge0 = And(\n",
        "    # YOUR CODE HERE\n",
        "    \n",
        "    \n",
        "    #AKnight or exclusive AKnave\n",
        "    Or(And(AKnave, Not(AKnight)), And(AKnight, Not(AKnave))),\n",
        "    \n",
        "\n",
        "\n",
        "    #Premise\n",
        "    Biconditional(AKnight, And(AKnave, AKnight))\n",
        "\n",
        "    #raise NotImplementedError()\n",
        ")\n",
        "\n",
        "# Solve the puzzle\n",
        "puzzle_solver('Puzzle 0', knowledge0)"
      ]
    },
    {
      "cell_type": "markdown",
      "metadata": {
        "id": "pGREVrpvY136"
      },
      "source": [
        "After each puzzle, run the corresponding test to ensure that your code is correct. If the test runs without an error, then your knowledge base for the puzzle is correct."
      ]
    },
    {
      "cell_type": "code",
      "execution_count": 30,
      "metadata": {
        "deletable": false,
        "editable": false,
        "id": "8qLlKZMfZTHi",
        "nbgrader": {
          "cell_type": "code",
          "checksum": "8fcf5014e6c5e786b92a292bed1193ff",
          "grade": true,
          "grade_id": "cell-daffc8f581b81139",
          "locked": true,
          "points": 10,
          "schema_version": 3,
          "solution": false,
          "task": false
        }
      },
      "outputs": [],
      "source": [
        "# Testing for knowledge0\n",
        "\n",
        "# Ensure the symbols are defined\n",
        "symbols = [AKnight, AKnave, BKnight, BKnave, CKnight, CKnave]\n",
        "\n",
        "# Test knowledge0\n",
        "test_0(model_check, knowledge0, symbols)"
      ]
    },
    {
      "cell_type": "markdown",
      "metadata": {
        "id": "iT-d9Q_ABMAf"
      },
      "source": [
        "## Puzzle 1\n",
        "**Puzzle 1** has two characters: A and B.\n",
        "- A says “We are both knaves.”\n",
        "- B says nothing."
      ]
    },
    {
      "cell_type": "code",
      "execution_count": 31,
      "metadata": {
        "deletable": false,
        "id": "208MUBvQDhyv",
        "nbgrader": {
          "cell_type": "code",
          "checksum": "1e436b20be56f0b42e49e968b2f12481",
          "grade": false,
          "grade_id": "cell-558e08f8d95fb832",
          "locked": false,
          "schema_version": 3,
          "solution": true,
          "task": false
        },
        "colab": {
          "base_uri": "https://localhost:8080/"
        },
        "outputId": "f055d23b-1fda-47d9-a370-890346c53497"
      },
      "outputs": [
        {
          "output_type": "stream",
          "name": "stdout",
          "text": [
            "Puzzle 1\n",
            "    A is a Knave\n",
            "    B is a Knight\n"
          ]
        }
      ],
      "source": [
        "# Puzzle 1\n",
        "# A says \"We are both knaves.\"\n",
        "# B says nothing.\n",
        "#Statement\n",
        "Statement = And(AKnave, BKnave)\n",
        "knowledge1 = And(\n",
        "    # YOUR CODE HERE\n",
        "    #Either AKnave and BKnight or BKnight and AKnight\n",
        "    Or(And(AKnave, BKnight), And(BKnight, AKnight)),\n",
        "    #Biconditional KB\n",
        "    Biconditional(AKnight, Statement)\n",
        "\n",
        "    #raise NotImplementedError()\n",
        ")\n",
        "\n",
        "# Solve the puzzle\n",
        "puzzle_solver('Puzzle 1', knowledge1)"
      ]
    },
    {
      "cell_type": "code",
      "execution_count": 32,
      "metadata": {
        "deletable": false,
        "editable": false,
        "id": "p0Ls2aVfZ1ne",
        "nbgrader": {
          "cell_type": "code",
          "checksum": "61220111ea6d873876eab41d8b64f68f",
          "grade": true,
          "grade_id": "cell-d4caa16715fc4348",
          "locked": true,
          "points": 10,
          "schema_version": 3,
          "solution": false,
          "task": false
        }
      },
      "outputs": [],
      "source": [
        "# Test knowledge1\n",
        "test_1(model_check, knowledge1, symbols)"
      ]
    },
    {
      "cell_type": "markdown",
      "metadata": {
        "id": "FGYDAq7nBhKU"
      },
      "source": [
        "## Puzzle 2\n",
        "**Puzzle 2** has two characters: A and B.\n",
        "- A says “We are the same kind.”\n",
        "- B says “We are of different kinds.”"
      ]
    },
    {
      "cell_type": "code",
      "execution_count": 33,
      "metadata": {
        "deletable": false,
        "id": "nbnkvy9tDnUU",
        "nbgrader": {
          "cell_type": "code",
          "checksum": "decd7a19f888e9af9540ce070e870530",
          "grade": false,
          "grade_id": "cell-edb867634fda23d4",
          "locked": false,
          "schema_version": 3,
          "solution": true,
          "task": false
        },
        "colab": {
          "base_uri": "https://localhost:8080/"
        },
        "outputId": "240e5505-bb2d-4be8-becc-a3877370220d"
      },
      "outputs": [
        {
          "output_type": "stream",
          "name": "stdout",
          "text": [
            "Puzzle 2\n",
            "    A is a Knave\n",
            "    B is a Knight\n"
          ]
        }
      ],
      "source": [
        "# Puzzle 2\n",
        "# A says \"We are the same kind.\"\n",
        "# B says \"We are of different kinds.\"\n",
        "Astatement = Or(And(AKnight, BKnight), And(AKnave, BKnave))\n",
        "\n",
        "Bstatement = Or(And(AKnight, BKnave), And(AKnave, BKnight))\n",
        "knowledge2 = And(\n",
        "    # YOUR CODE HERE\n",
        "    #Either AKnight or AKnave\n",
        "     Or(And(AKnight, Not(AKnave)), And(AKnave, Not(AKnight))),\n",
        "        \n",
        "    #Either BKnight or BKnave    \n",
        "     Or(And(BKnight, Not(BKnave)), And(BKnave, Not(BKnight))),\n",
        "    #Biconditionals\n",
        "     Biconditional(AKnight, Astatement),\n",
        "\n",
        "     Biconditional(BKnight, Bstatement)\n",
        "    #raise NotImplementedError()\n",
        ")\n",
        "\n",
        "# Solve the puzzle\n",
        "puzzle_solver('Puzzle 2', knowledge2)"
      ]
    },
    {
      "cell_type": "code",
      "execution_count": 34,
      "metadata": {
        "deletable": false,
        "editable": false,
        "id": "qG-K1PjdZ5pN",
        "nbgrader": {
          "cell_type": "code",
          "checksum": "551ed1ebf3b7970aad34ab768cffe84d",
          "grade": true,
          "grade_id": "cell-fa31608d01ea9097",
          "locked": true,
          "points": 10,
          "schema_version": 3,
          "solution": false,
          "task": false
        }
      },
      "outputs": [],
      "source": [
        "# Test knowledge2\n",
        "test_2(model_check, knowledge2, symbols)"
      ]
    },
    {
      "cell_type": "markdown",
      "metadata": {
        "id": "TI6bkwXLBlhU"
      },
      "source": [
        "## Puzzle 3\n",
        "**Puzzle 3** has three characters: A, B, and C.\n",
        "- A says either “I am a knight.” or “I am a knave.”, but you don’t know which.\n",
        "- B says “A said ‘I am a knave.’”\n",
        "- B then says “C is a knave.”\n",
        "- C says “A is a knight.”"
      ]
    },
    {
      "cell_type": "code",
      "execution_count": 35,
      "metadata": {
        "deletable": false,
        "id": "6ddrnvbSDpz-",
        "nbgrader": {
          "cell_type": "code",
          "checksum": "52fa5ad8c8956b3bfdb6c60773de66cb",
          "grade": false,
          "grade_id": "cell-e9f0ecbcfb9439f8",
          "locked": false,
          "schema_version": 3,
          "solution": true,
          "task": false
        },
        "colab": {
          "base_uri": "https://localhost:8080/"
        },
        "outputId": "a8a0237e-5b53-480c-a982-678610e1fe3f"
      },
      "outputs": [
        {
          "output_type": "stream",
          "name": "stdout",
          "text": [
            "Puzzle 3\n",
            "    A is a Knight\n",
            "    B is a Knave\n",
            "    C is a Knight\n"
          ]
        }
      ],
      "source": [
        "# Puzzle 3\n",
        "# A says either \"I am a knight.\" or \"I am a knave.\", but you don't know which.\n",
        "# B says \"A said 'I am a knave'.\"\n",
        "# B says \"C is a knave.\"\n",
        "# C says \"A is a knight.\"\n",
        "\n",
        "#Logical statements\n",
        "Astatement = Or(And(AKnight, Not(AKnave)),And(Not(AKnight), AKnave), And(Not(AKnight), Not(AKnave)))\n",
        "\n",
        "Bstatement =  And(BKnave, CKnave)\n",
        "\n",
        "Cstatement = AKnight\n",
        "\n",
        "knowledge3 = And(\n",
        "    # YOUR CODE HERE\n",
        "    #A is either a knight or a knave\n",
        "    Or(And(AKnight, Not(AKnave)), And(AKnave, Not(AKnight))),\n",
        "        \n",
        "    #B is either a knight or a Knave    \n",
        "    Or(And(BKnight, Not(BKnave)), And(BKnave, Not(BKnight))),\n",
        "    #C is either a knight or a Knave      \n",
        "    Or(And(CKnight, Not(CKnave)), And(CKnave, Not(CKnight))),\n",
        "    #Biconditionals\n",
        "    Biconditional(AKnight, Astatement),\n",
        "    Biconditional(BKnight, Bstatement),\n",
        "    Biconditional(CKnight, Cstatement)   \n",
        "\n",
        "\n",
        "\n",
        "    #raise NotImplementedError()\n",
        ")\n",
        "\n",
        "# Solve the puzzle\n",
        "puzzle_solver('Puzzle 3', knowledge3)"
      ]
    },
    {
      "cell_type": "code",
      "execution_count": 36,
      "metadata": {
        "deletable": false,
        "editable": false,
        "id": "Dx1h6zFYZ9jo",
        "nbgrader": {
          "cell_type": "code",
          "checksum": "336f25132c7a38ffe3e34f5f711c3564",
          "grade": true,
          "grade_id": "cell-bf21b53460753907",
          "locked": true,
          "points": 10,
          "schema_version": 3,
          "solution": false,
          "task": false
        }
      },
      "outputs": [],
      "source": [
        "# Test knowledge3\n",
        "test_3(model_check, knowledge3, symbols)"
      ]
    },
    {
      "cell_type": "markdown",
      "metadata": {
        "id": "V8eCZeLeCWbE"
      },
      "source": [
        "## Puzzle 4\n",
        "**Puzzle 4** has three characters: A, B, and C.\n",
        "- A says “B never lies.”\n",
        "- C says “A is a knave and I am a knave.”\n",
        "- B says “C is a knave.”"
      ]
    },
    {
      "cell_type": "code",
      "execution_count": 37,
      "metadata": {
        "deletable": false,
        "id": "4zsBYACODssU",
        "nbgrader": {
          "cell_type": "code",
          "checksum": "387fbf44d075038ec7abca99c955c71f",
          "grade": false,
          "grade_id": "cell-ee01454242895984",
          "locked": false,
          "schema_version": 3,
          "solution": true,
          "task": false
        },
        "colab": {
          "base_uri": "https://localhost:8080/"
        },
        "outputId": "32093724-43cc-4626-c0c1-feddae479c3e"
      },
      "outputs": [
        {
          "output_type": "stream",
          "name": "stdout",
          "text": [
            "Puzzle 4\n",
            "    A is a Knight\n",
            "    B is a Knight\n",
            "    C is a Knave\n"
          ]
        }
      ],
      "source": [
        "# Puzzle 4\n",
        "# A says: B never lies.\n",
        "# C says: A is a knave and I am a knave.\n",
        "# B says: C is a knave.\n",
        "#Logical Statements\n",
        "Astatement = And(BKnight, Not(BKnave))\n",
        "\n",
        "Bstatement = And(CKnave, Not(CKnight))\n",
        "\n",
        "Cstatement = And(And(AKnave, Not(AKnight)), And(CKnave, Not(CKnight)))\n",
        "\n",
        "knowledge4 = And(\n",
        "    # YOUR CODE HERE\n",
        "    #A is either a knight or a Knave   \n",
        "    Or(And(AKnight, Not(AKnave)), And(AKnave, Not(AKnight))),\n",
        "    #B is either a knight or a Knave      \n",
        "    Or(And(BKnight, Not(BKnave)), And(BKnave, Not(BKnight))),\n",
        "    #C is either a knight or a Knave   \n",
        "    Or(And(CKnight, Not(CKnave)), And(CKnave, Not(CKnight))),\n",
        "    #Biconditionals\n",
        "    Biconditional(AKnight, Astatement),\n",
        "    Biconditional(BKnight, Bstatement),\n",
        "    Biconditional(CKnight, Cstatement)  \n",
        "\n",
        "    #raise NotImplementedError()\n",
        ")\n",
        "\n",
        "# Solve the puzzle\n",
        "puzzle_solver('Puzzle 4', knowledge4)"
      ]
    },
    {
      "cell_type": "code",
      "execution_count": 38,
      "metadata": {
        "deletable": false,
        "editable": false,
        "id": "dRMytgtBaAwc",
        "nbgrader": {
          "cell_type": "code",
          "checksum": "7a41c45e5ab1aa88e67746e02ad553fd",
          "grade": true,
          "grade_id": "cell-7b83ddac728dbcf2",
          "locked": true,
          "points": 10,
          "schema_version": 3,
          "solution": false,
          "task": false
        }
      },
      "outputs": [],
      "source": [
        "# Test knowledge4\n",
        "test_4(model_check, knowledge4, symbols)"
      ]
    },
    {
      "cell_type": "markdown",
      "metadata": {
        "id": "pjQ8vD81Cam_"
      },
      "source": [
        "## Puzzle 5\n",
        "**Puzzle 5** has three characters: A, B, and C.\n",
        "- B says “A is like me”\n",
        "- A says “C always tells the truth.”\n",
        "- C says “B lies.”\n",
        "- B says “A is lying.”"
      ]
    },
    {
      "cell_type": "code",
      "execution_count": 39,
      "metadata": {
        "deletable": false,
        "id": "zpWwUnwFDvPj",
        "nbgrader": {
          "cell_type": "code",
          "checksum": "b1dc334ea737e61ffccd9ae21630cae4",
          "grade": false,
          "grade_id": "cell-12478c93028e8898",
          "locked": false,
          "schema_version": 3,
          "solution": true,
          "task": false
        },
        "colab": {
          "base_uri": "https://localhost:8080/"
        },
        "outputId": "0e2b2a35-7858-49ef-fdd0-98489c2dcb02"
      },
      "outputs": [
        {
          "output_type": "stream",
          "name": "stdout",
          "text": [
            "Puzzle 5\n",
            "    A is a Knight\n",
            "    B is a Knave\n",
            "    C is a Knight\n"
          ]
        }
      ],
      "source": [
        "# Puzzle 5\n",
        "# B says: A is my type.\n",
        "# A says: C always tells the truth.\n",
        "# C says: B lies.\n",
        "# B says: A is lying.\n",
        "#Logical Statements\n",
        "Astatement = CKnight\n",
        "\n",
        "Bstatement = And(Or(And(BKnave, AKnave), And(BKnight, AKnight)), AKnave)\n",
        "\n",
        "Cstatement = BKnave\n",
        "\n",
        "\n",
        "\n",
        "knowledge5 = And(\n",
        "    # YOUR CODE HERE\n",
        "    #A is either a knight or a Knave   \n",
        "    Or(And(AKnight, Not(AKnave)), And(AKnave, Not(AKnight))),\n",
        "    #B is either a knight or a Knave        \n",
        "    Or(And(BKnight, Not(BKnave)), And(BKnave, Not(BKnight))),\n",
        "    #C is either a knight or a Knave   \n",
        "    Or(And(CKnight, Not(CKnave)), And(CKnave, Not(CKnight))),\n",
        "    #Biconditionals\n",
        "    Biconditional(AKnight, Astatement),\n",
        "    Biconditional(BKnight, Bstatement),\n",
        "    Biconditional(CKnight, Cstatement)  \n",
        "    #raise NotImplementedError()\n",
        ")\n",
        "\n",
        "# Solve the puzzle\n",
        "puzzle_solver('Puzzle 5', knowledge5)"
      ]
    },
    {
      "cell_type": "code",
      "execution_count": 40,
      "metadata": {
        "deletable": false,
        "editable": false,
        "id": "uThQ729LaEKs",
        "nbgrader": {
          "cell_type": "code",
          "checksum": "983ebd2745f9a61e060060c86b0a0243",
          "grade": true,
          "grade_id": "cell-a74c2004ff74e98d",
          "locked": true,
          "points": 10,
          "schema_version": 3,
          "solution": false,
          "task": false
        }
      },
      "outputs": [],
      "source": [
        "# Test knowledge5\n",
        "test_5(model_check, knowledge5, symbols)"
      ]
    },
    {
      "cell_type": "markdown",
      "metadata": {
        "id": "l0tLNCyAFynW"
      },
      "source": [
        "# Submission\n",
        "- Be sure to remove all the `raise NotImplementedError` lines in all the cells above.\n",
        "- Run all the tests and ensure that there is no error.\n",
        "- Download your `pset3.ipynb` file and submit it through SOMAS under the Assignment labeled pset2, under Wk 8."
      ]
    }
  ],
  "metadata": {
    "colab": {
      "collapsed_sections": [
        "NvBrd2Z2FDtG"
      ],
      "provenance": [],
      "toc_visible": true
    },
    "kernelspec": {
      "display_name": "Python 3",
      "language": "python",
      "name": "python3"
    },
    "language_info": {
      "codemirror_mode": {
        "name": "ipython",
        "version": 3
      },
      "file_extension": ".py",
      "mimetype": "text/x-python",
      "name": "python",
      "nbconvert_exporter": "python",
      "pygments_lexer": "ipython3",
      "version": "3.8.16"
    }
  },
  "nbformat": 4,
  "nbformat_minor": 0
}